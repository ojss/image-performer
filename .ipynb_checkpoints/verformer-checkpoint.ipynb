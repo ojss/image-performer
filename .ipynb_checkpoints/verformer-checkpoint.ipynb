{
 "cells": [
  {
   "cell_type": "code",
   "execution_count": 5,
   "metadata": {
    "scrolled": true
   },
   "outputs": [
    {
     "name": "stdout",
     "output_type": "stream",
     "text": [
      "Collecting nystrom-attention\n",
      "  Downloading nystrom_attention-0.0.11-py3-none-any.whl (4.5 kB)\n",
      "Requirement already satisfied: einops>=0.3 in /opt/conda/lib/python3.7/site-packages (from nystrom-attention) (0.3.0)\n",
      "Requirement already satisfied: torch>=1.6 in /opt/conda/lib/python3.7/site-packages (from nystrom-attention) (1.8.0)\n",
      "Requirement already satisfied: typing_extensions in /opt/conda/lib/python3.7/site-packages (from torch>=1.6->nystrom-attention) (3.7.4.3)\n",
      "Requirement already satisfied: numpy in /opt/conda/lib/python3.7/site-packages (from torch>=1.6->nystrom-attention) (1.19.5)\n",
      "Installing collected packages: nystrom-attention\n",
      "Successfully installed nystrom-attention-0.0.11\n"
     ]
    }
   ],
   "source": [
    "# !pip install vit-pytorch\n",
    "# !pip install performer-pytorch\n",
    "!pip install nystrom-attention\n"
   ]
  },
  {
   "cell_type": "code",
   "execution_count": 1,
   "metadata": {},
   "outputs": [],
   "source": [
    "import torch\n",
    "import torch.nn as nn\n",
    "import math\n",
    "from matplotlib import pyplot as plt\n",
    "from tqdm import tqdm\n",
    "from vit_pytorch.efficient import ViT\n",
    "from performer_pytorch import Performer\n",
    "from torchvision import datasets, transforms\n",
    "from torch.utils.data import DataLoader"
   ]
  },
  {
   "cell_type": "code",
   "execution_count": 2,
   "metadata": {},
   "outputs": [
    {
     "name": "stdout",
     "output_type": "stream",
     "text": [
      "Files already downloaded and verified\n",
      "Files already downloaded and verified\n"
     ]
    }
   ],
   "source": [
    "device = \"cuda:0\"\n",
    "batch_size = 128\n",
    "lr = 0.001\n",
    "epochs = 3\n",
    "\n",
    "transform=transforms.Compose([\n",
    "            transforms.ToTensor(),\n",
    "            transforms.Normalize((0.4914, 0.4822, 0.4465), (0.2023, 0.1994, 0.2010)),\n",
    "])\n",
    "\n",
    "mnist_train = datasets.CIFAR10(root=\"CIFAR10/\",\n",
    "                             train=True,\n",
    "                             download=True,\n",
    "                             transform=transform)\n",
    "\n",
    "mnist_test = datasets.CIFAR10(root=\"CIFAR10/\",\n",
    "                             train=False,\n",
    "                             download=True,\n",
    "                             transform=transform)\n",
    "\n",
    "data_train = DataLoader(dataset=mnist_train,\n",
    "                        batch_size=batch_size,\n",
    "                        shuffle=True)\n",
    "\n",
    "data_test= DataLoader(dataset=mnist_train,\n",
    "                        batch_size=batch_size//4,\n",
    "                        shuffle=False)\n",
    "\n"
   ]
  },
  {
   "cell_type": "code",
   "execution_count": 6,
   "metadata": {},
   "outputs": [],
   "source": [
    "import torch\n",
    "from vit_pytorch.efficient import ViT\n",
    "from nystrom_attention import Nystromformer"
   ]
  },
  {
   "cell_type": "code",
   "execution_count": 4,
   "metadata": {},
   "outputs": [
    {
     "ename": "TypeError",
     "evalue": "__init__() missing 1 required keyword-only argument: 'transformer'",
     "output_type": "error",
     "traceback": [
      "\u001b[0;31m---------------------------------------------------------------------------\u001b[0m",
      "\u001b[0;31mTypeError\u001b[0m                                 Traceback (most recent call last)",
      "\u001b[0;32m<ipython-input-4-5b1954307a7a>\u001b[0m in \u001b[0;36m<module>\u001b[0;34m\u001b[0m\n\u001b[1;32m     11\u001b[0m     \u001b[0mimage_size\u001b[0m \u001b[0;34m=\u001b[0m \u001b[0;36m32\u001b[0m\u001b[0;34m,\u001b[0m\u001b[0;34m\u001b[0m\u001b[0;34m\u001b[0m\u001b[0m\n\u001b[1;32m     12\u001b[0m     \u001b[0mpatch_size\u001b[0m \u001b[0;34m=\u001b[0m \u001b[0;36m32\u001b[0m\u001b[0;34m,\u001b[0m\u001b[0;34m\u001b[0m\u001b[0;34m\u001b[0m\u001b[0m\n\u001b[0;32m---> 13\u001b[0;31m     \u001b[0mnum_classes\u001b[0m \u001b[0;34m=\u001b[0m \u001b[0;36m10\u001b[0m\u001b[0;34m\u001b[0m\u001b[0;34m\u001b[0m\u001b[0m\n\u001b[0m\u001b[1;32m     14\u001b[0m )\n",
      "\u001b[0;31mTypeError\u001b[0m: __init__() missing 1 required keyword-only argument: 'transformer'"
     ]
    }
   ],
   "source": [
    "efficient_transformer =  Performer(\n",
    "    dim_head = 64,\n",
    "    dim = 512,\n",
    "    depth = 1,\n",
    "    heads = 8,\n",
    "    causal = True\n",
    ")\n",
    "\n",
    "model = ViT(\n",
    "    dim = 512,\n",
    "    image_size = 32,\n",
    "    patch_size = 16,\n",
    "    num_classes = 10,\n",
    ")"
   ]
  },
  {
   "cell_type": "code",
   "execution_count": null,
   "metadata": {},
   "outputs": [],
   "source": [
    "model"
   ]
  },
  {
   "cell_type": "code",
   "execution_count": null,
   "metadata": {},
   "outputs": [],
   "source": [
    "opt = torch.optim.Adam(model.parameters(), lr=lr, weight_decay = 1e-8)\n",
    "criterion = nn.CrossEntropyLoss()\n",
    "model.to(device)\n",
    "l = []\n",
    "for epoch in range(1, epochs + 1):\n",
    "    acc = 0\n",
    "    tot_loss = 0\n",
    "    train_cnt = 0\n",
    "    test_cnt = 0\n",
    "    model.train()\n",
    "    pbar = tqdm(data_train)\n",
    "    for x, y in pbar:\n",
    "#         print(x.shape)\n",
    "#         break\n",
    "        x = x.to(device)\n",
    "        y = y.to(device)\n",
    "        y_pred = model(x)\n",
    "        opt.zero_grad()\n",
    "        loss = criterion(y_pred, y)\n",
    "        loss.backward()\n",
    "        opt.step()\n",
    "        tot_loss += loss.item()*x.shape[0]\n",
    "        train_cnt += x.shape[0]\n",
    "        pbar.set_description(f\"Loss : {tot_loss/train_cnt:.4f}\")\n",
    "#     break\n",
    "    model.eval()\n",
    "\n",
    "    for x, y in data_test:\n",
    "        x = x.to(device)\n",
    "        y = y.to(device)\n",
    "        y_pred = model(x)\n",
    "\n",
    "        y_argmax = y_pred.argmax(dim = 1)\n",
    "        acc += (y == y_argmax).sum()\n",
    "        test_cnt += x.shape[0]\n",
    "    a = tot_loss/math.log(2)\n",
    "    l.append(a)\n",
    "    print(f'epoch {epoch} : Average loss : {tot_loss/train_cnt:.4f}, test_acc : {acc.item()/test_cnt:.4f}')\n",
    "\n",
    "plt.plot(l)\n",
    "plt.show()\n",
    "print(l)"
   ]
  },
  {
   "cell_type": "code",
   "execution_count": 15,
   "metadata": {},
   "outputs": [
    {
     "name": "stdout",
     "output_type": "stream",
     "text": [
      "unable to import cuda code for auto-regressive Performer. will default to the memory inefficient non-cuda version\n"
     ]
    },
    {
     "data": {
      "text/plain": [
       "tensor([[[-0.7665, -1.2752,  0.5297,  ..., -1.6981, -0.7756,  0.1333],\n",
       "         [-1.0223,  0.3121,  0.4439,  ..., -1.1971, -0.1929,  0.1666],\n",
       "         [ 0.3963,  1.7769,  0.7451,  ..., -1.3259, -1.1830,  0.6916],\n",
       "         ...,\n",
       "         [-0.2059, -2.0350, -2.2680,  ..., -1.2640,  1.7713,  0.0140],\n",
       "         [-0.6569,  1.2208, -1.1717,  ..., -0.1765, -0.0173,  0.2284],\n",
       "         [-0.0964,  1.2774,  0.4486,  ..., -0.7397, -0.8127, -2.0359]]],\n",
       "       grad_fn=<AddBackward0>)"
      ]
     },
     "execution_count": 15,
     "metadata": {},
     "output_type": "execute_result"
    }
   ],
   "source": [
    "import torch\n",
    "from performer_pytorch import Performer\n",
    "\n",
    "model = Performer(\n",
    "    dim = 512,\n",
    "    dim_head = 8,\n",
    "    depth = 1,\n",
    "    heads = 8,\n",
    "    causal = True\n",
    ")\n",
    "\n",
    "x = torch.randn(1, 2048, 512)\n",
    "model(x) # (1, 2048, 512)"
   ]
  },
  {
   "cell_type": "code",
   "execution_count": 8,
   "metadata": {},
   "outputs": [
    {
     "name": "stdout",
     "output_type": "stream",
     "text": [
      "Requirement already satisfied: performer-pytorch in /opt/conda/envs/fastai/lib/python3.8/site-packages (1.0.1)\n",
      "Requirement already satisfied: pytorch-fast-transformers>=0.3.0 in /opt/conda/envs/fastai/lib/python3.8/site-packages (from performer-pytorch) (0.3.0)\n",
      "Requirement already satisfied: axial-positional-embedding>=0.1.0 in /opt/conda/envs/fastai/lib/python3.8/site-packages (from performer-pytorch) (0.2.1)\n",
      "Requirement already satisfied: torch>=1.6 in /opt/conda/envs/fastai/lib/python3.8/site-packages (from performer-pytorch) (1.7.0)\n",
      "Requirement already satisfied: einops>=0.3 in /opt/conda/envs/fastai/lib/python3.8/site-packages (from performer-pytorch) (0.3.0)\n",
      "Requirement already satisfied: local-attention>=1.1.1 in /opt/conda/envs/fastai/lib/python3.8/site-packages (from performer-pytorch) (1.2.2)\n",
      "Requirement already satisfied: future in /opt/conda/envs/fastai/lib/python3.8/site-packages (from torch>=1.6->performer-pytorch) (0.18.2)\n",
      "Requirement already satisfied: typing_extensions in /opt/conda/envs/fastai/lib/python3.8/site-packages (from torch>=1.6->performer-pytorch) (3.7.4.3)\n",
      "Requirement already satisfied: dataclasses in /opt/conda/envs/fastai/lib/python3.8/site-packages (from torch>=1.6->performer-pytorch) (0.6)\n",
      "Requirement already satisfied: numpy in /opt/conda/envs/fastai/lib/python3.8/site-packages (from torch>=1.6->performer-pytorch) (1.19.4)\n"
     ]
    }
   ],
   "source": [
    "!pip install performer-pytorch\n"
   ]
  },
  {
   "cell_type": "code",
   "execution_count": null,
   "metadata": {},
   "outputs": [],
   "source": []
  }
 ],
 "metadata": {
  "environment": {
   "name": "pytorch-gpu.1-8.m65",
   "type": "gcloud",
   "uri": "gcr.io/deeplearning-platform-release/pytorch-gpu.1-8:m65"
  },
  "kernelspec": {
   "display_name": "Python 3",
   "language": "python",
   "name": "python3"
  },
  "language_info": {
   "codemirror_mode": {
    "name": "ipython",
    "version": 3
   },
   "file_extension": ".py",
   "mimetype": "text/x-python",
   "name": "python",
   "nbconvert_exporter": "python",
   "pygments_lexer": "ipython3",
   "version": "3.7.10"
  }
 },
 "nbformat": 4,
 "nbformat_minor": 4
}
